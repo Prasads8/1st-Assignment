{
 "cells": [
  {
   "cell_type": "code",
   "execution_count": 9,
   "metadata": {},
   "outputs": [
    {
     "name": "stdout",
     "output_type": "stream",
     "text": [
      "Enter the side 1 of triangel 10.5\n",
      "Enter the side 2 of triangel 6.6\n",
      "Enter the side 3 of triangel 6.5\n",
      "Area of triangle is: 5.985649505275099\n"
     ]
    }
   ],
   "source": [
    "#Assignment 4.1.1 find the area of the triangle using class and subclass\n",
    "class triangle:\n",
    "    def __init__(self):\n",
    "            self.a1=float(input(\"Enter the side 1 of triangel \"))\n",
    "            self.a2=float(input(\"Enter the side 2 of triangel \"))\n",
    "            self.a3=float(input(\"Enter the side 3 of triangel \"))         \n",
    "class calculate(triangle):\n",
    "    def area(self):\n",
    "        self.s=(self.a1+self.a2+self.a3)/2\n",
    "        a=((self.s-self.a1)*(self.s-self.a2)*(self.s-self.a3))**0.5\n",
    "        print(\"Area of triangle is:\",a)\n",
    "        \n",
    "q=calculate()\n",
    "q.area()"
   ]
  },
  {
   "cell_type": "code",
   "execution_count": null,
   "metadata": {},
   "outputs": [],
   "source": [
    "#Assignment 4.1.2 function filter_long_words()\n",
    "def filter_long_words():\n",
    "    n=int(input(\"Enter the number to get words larger than number \\n\"))\n",
    "    wlist=input(\"Enter the words to sort seperated with space \\n\")\n",
    "    l=[]\n",
    "    slist=wlist.split()\n",
    "    for i in slist:\n",
    "        if len(i)>n:\n",
    "            l.append(i)\n",
    "    print(l)\n",
    "filter_long_words()"
   ]
  },
  {
   "cell_type": "code",
   "execution_count": null,
   "metadata": {},
   "outputs": [],
   "source": [
    "#Assignment 4.2 function filter_long_words()\n",
    "def map_list():\n",
    "    l=input(\"Enter the word list seperated with space\")\n",
    "    m=[]\n",
    "    m.append([len(i) for i in l.split()])\n",
    "    print(m)\n",
    "map_list()"
   ]
  },
  {
   "cell_type": "code",
   "execution_count": null,
   "metadata": {},
   "outputs": [],
   "source": [
    "#Assignment 4.3 function to check the char vowel\n",
    "def check_vowel():\n",
    "    n=input(\"Enter the charecter to check its vowel or not\")\n",
    "    if n== \"a\" or 'e' or 'i' or 'o' or 'u' or \"A\" or 'E' or 'I' or 'O' or 'U':\n",
    "        return True\n",
    "    else:\n",
    "        return False\n",
    "check_vowel()"
   ]
  }
 ],
 "metadata": {
  "kernelspec": {
   "display_name": "Python 3",
   "language": "python",
   "name": "python3"
  },
  "language_info": {
   "codemirror_mode": {
    "name": "ipython",
    "version": 3
   },
   "file_extension": ".py",
   "mimetype": "text/x-python",
   "name": "python",
   "nbconvert_exporter": "python",
   "pygments_lexer": "ipython3",
   "version": "3.7.6"
  }
 },
 "nbformat": 4,
 "nbformat_minor": 4
}
